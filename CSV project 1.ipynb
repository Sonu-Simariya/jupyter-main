{
 "cells": [
  {
   "cell_type": "code",
   "execution_count": 56,
   "metadata": {},
   "outputs": [
    {
     "name": "stdout",
     "output_type": "stream",
     "text": [
      "  S.No.         Date        Day    Subject      Timings  Approx_Hour  \\\n",
      "0   NaN          NaN        NaN        NaN          NaN          NaN   \n",
      "1     1  June 1,2021    Tuesday  Chemistry  4:30-6:00pm          1.5   \n",
      "2     2  June 2,2021  Wednesday    Physics  4:00-5:30pm          1.5   \n",
      "3     3  June 3,2021   Thursday  chemistry  7:00-8:00am          1.0   \n",
      "4     4  June 3,2021   Thursday      Maths  2:30-3:30pm          1.0   \n",
      "5     5  June 3,2021   Thursday    Physics  5:00-6:00pm          1.0   \n",
      "6     6  June 4,2021     Friday  Chemistry  7:00-8:00am          1.0   \n",
      "7     7  June 4,2021     Friday      Maths  2:30-3:30pm          1.0   \n",
      "8     8  June 4,2021     Friday    Physics  5:00-6:00pm          1.0   \n",
      "9     9  June 5,2021   Saturday  Chemistry  7:00-8:00am          1.0   \n",
      "\n",
      "             Remark  Cumulative_Hour  Unnamed: 8  Unnamed: 9 Unnamed: 10  \n",
      "0               NaN              NaN         NaN         NaN         NaN  \n",
      "1               NaN              1.5         NaN         NaN         NaN  \n",
      "2               NaN              3.0         NaN         NaN         NaN  \n",
      "3               NaN              4.0         NaN         NaN         NaN  \n",
      "4               NaN              5.0         NaN         NaN         NaN  \n",
      "5               NaN              6.0         NaN         NaN         NaN  \n",
      "6  Assignment given              7.0         NaN         NaN              \n",
      "7  Assignment given              8.0         NaN         NaN         NaN  \n",
      "8               NaN              9.0         NaN         NaN         NaN  \n",
      "9               NaN             10.0         NaN         NaN         NaN  \n",
      "(69, 11)\n",
      "Index(['S.No.', 'Date', 'Day', 'Subject', 'Timings', 'Approx_Hour', 'Remark',\n",
      "       'Cumulative_Hour', 'Unnamed: 8', 'Unnamed: 9', 'Unnamed: 10'],\n",
      "      dtype='object')\n"
     ]
    },
    {
     "data": {
      "text/html": [
       "<div>\n",
       "<style scoped>\n",
       "    .dataframe tbody tr th:only-of-type {\n",
       "        vertical-align: middle;\n",
       "    }\n",
       "\n",
       "    .dataframe tbody tr th {\n",
       "        vertical-align: top;\n",
       "    }\n",
       "\n",
       "    .dataframe thead th {\n",
       "        text-align: right;\n",
       "    }\n",
       "</style>\n",
       "<table border=\"1\" class=\"dataframe\">\n",
       "  <thead>\n",
       "    <tr style=\"text-align: right;\">\n",
       "      <th></th>\n",
       "      <th>Approx_Hour</th>\n",
       "      <th>Subject</th>\n",
       "      <th>Date</th>\n",
       "      <th>Day</th>\n",
       "      <th>Timings</th>\n",
       "      <th>Cumulative_Hour</th>\n",
       "    </tr>\n",
       "  </thead>\n",
       "  <tbody>\n",
       "    <tr>\n",
       "      <th>1</th>\n",
       "      <td>1.5</td>\n",
       "      <td>Chemistry</td>\n",
       "      <td>June 1,2021</td>\n",
       "      <td>Tuesday</td>\n",
       "      <td>4:30-6:00pm</td>\n",
       "      <td>1.5</td>\n",
       "    </tr>\n",
       "    <tr>\n",
       "      <th>2</th>\n",
       "      <td>1.5</td>\n",
       "      <td>Physics</td>\n",
       "      <td>June 2,2021</td>\n",
       "      <td>Wednesday</td>\n",
       "      <td>4:00-5:30pm</td>\n",
       "      <td>3.0</td>\n",
       "    </tr>\n",
       "    <tr>\n",
       "      <th>3</th>\n",
       "      <td>1.0</td>\n",
       "      <td>chemistry</td>\n",
       "      <td>June 3,2021</td>\n",
       "      <td>Thursday</td>\n",
       "      <td>7:00-8:00am</td>\n",
       "      <td>4.0</td>\n",
       "    </tr>\n",
       "    <tr>\n",
       "      <th>4</th>\n",
       "      <td>1.0</td>\n",
       "      <td>Maths</td>\n",
       "      <td>June 3,2021</td>\n",
       "      <td>Thursday</td>\n",
       "      <td>2:30-3:30pm</td>\n",
       "      <td>5.0</td>\n",
       "    </tr>\n",
       "    <tr>\n",
       "      <th>5</th>\n",
       "      <td>1.0</td>\n",
       "      <td>Physics</td>\n",
       "      <td>June 3,2021</td>\n",
       "      <td>Thursday</td>\n",
       "      <td>5:00-6:00pm</td>\n",
       "      <td>6.0</td>\n",
       "    </tr>\n",
       "    <tr>\n",
       "      <th>6</th>\n",
       "      <td>1.0</td>\n",
       "      <td>Chemistry</td>\n",
       "      <td>June 4,2021</td>\n",
       "      <td>Friday</td>\n",
       "      <td>7:00-8:00am</td>\n",
       "      <td>7.0</td>\n",
       "    </tr>\n",
       "    <tr>\n",
       "      <th>7</th>\n",
       "      <td>1.0</td>\n",
       "      <td>Maths</td>\n",
       "      <td>June 4,2021</td>\n",
       "      <td>Friday</td>\n",
       "      <td>2:30-3:30pm</td>\n",
       "      <td>8.0</td>\n",
       "    </tr>\n",
       "    <tr>\n",
       "      <th>8</th>\n",
       "      <td>1.0</td>\n",
       "      <td>Physics</td>\n",
       "      <td>June 4,2021</td>\n",
       "      <td>Friday</td>\n",
       "      <td>5:00-6:00pm</td>\n",
       "      <td>9.0</td>\n",
       "    </tr>\n",
       "    <tr>\n",
       "      <th>9</th>\n",
       "      <td>1.0</td>\n",
       "      <td>Chemistry</td>\n",
       "      <td>June 5,2021</td>\n",
       "      <td>Saturday</td>\n",
       "      <td>7:00-8:00am</td>\n",
       "      <td>10.0</td>\n",
       "    </tr>\n",
       "    <tr>\n",
       "      <th>10</th>\n",
       "      <td>1.0</td>\n",
       "      <td>Physics</td>\n",
       "      <td>June 5,2021</td>\n",
       "      <td>Saturday</td>\n",
       "      <td>2:30-3:30pm</td>\n",
       "      <td>11.0</td>\n",
       "    </tr>\n",
       "    <tr>\n",
       "      <th>11</th>\n",
       "      <td>1.5</td>\n",
       "      <td>Maths</td>\n",
       "      <td>June 6,2021</td>\n",
       "      <td>Sunday</td>\n",
       "      <td>11am-12:30pm</td>\n",
       "      <td>12.5</td>\n",
       "    </tr>\n",
       "    <tr>\n",
       "      <th>12</th>\n",
       "      <td>1.0</td>\n",
       "      <td>Chemistry</td>\n",
       "      <td>June 7,2021</td>\n",
       "      <td>Monday</td>\n",
       "      <td>5:00-6:00pm</td>\n",
       "      <td>13.5</td>\n",
       "    </tr>\n",
       "    <tr>\n",
       "      <th>13</th>\n",
       "      <td>1.0</td>\n",
       "      <td>Maths</td>\n",
       "      <td>June 7,2021</td>\n",
       "      <td>Monday</td>\n",
       "      <td>6:15-7:15pm</td>\n",
       "      <td>14.5</td>\n",
       "    </tr>\n",
       "    <tr>\n",
       "      <th>14</th>\n",
       "      <td>1.0</td>\n",
       "      <td>Physics</td>\n",
       "      <td>June 7,2021</td>\n",
       "      <td>Monday</td>\n",
       "      <td>2:30-3:30pm</td>\n",
       "      <td>15.5</td>\n",
       "    </tr>\n",
       "    <tr>\n",
       "      <th>15</th>\n",
       "      <td>1.0</td>\n",
       "      <td>Chemistry</td>\n",
       "      <td>June 8,2021</td>\n",
       "      <td>Tuesday</td>\n",
       "      <td>7:00-8:00am</td>\n",
       "      <td>16.5</td>\n",
       "    </tr>\n",
       "    <tr>\n",
       "      <th>16</th>\n",
       "      <td>1.0</td>\n",
       "      <td>Maths</td>\n",
       "      <td>June 8,2021</td>\n",
       "      <td>Tuesday</td>\n",
       "      <td>2:30-3:30pm</td>\n",
       "      <td>17.5</td>\n",
       "    </tr>\n",
       "    <tr>\n",
       "      <th>17</th>\n",
       "      <td>1.0</td>\n",
       "      <td>Physics</td>\n",
       "      <td>June 8,2021</td>\n",
       "      <td>Tuesday</td>\n",
       "      <td>5:00-6:00pm</td>\n",
       "      <td>18.5</td>\n",
       "    </tr>\n",
       "    <tr>\n",
       "      <th>18</th>\n",
       "      <td>1.0</td>\n",
       "      <td>Physics</td>\n",
       "      <td>June 9,2021</td>\n",
       "      <td>Wednesday</td>\n",
       "      <td>7:00-8:00am</td>\n",
       "      <td>19.5</td>\n",
       "    </tr>\n",
       "    <tr>\n",
       "      <th>19</th>\n",
       "      <td>1.0</td>\n",
       "      <td>Chemistry</td>\n",
       "      <td>June 9,2021</td>\n",
       "      <td>Wednesday</td>\n",
       "      <td>3:00-4:00pm</td>\n",
       "      <td>20.5</td>\n",
       "    </tr>\n",
       "    <tr>\n",
       "      <th>20</th>\n",
       "      <td>1.0</td>\n",
       "      <td>Maths</td>\n",
       "      <td>June 9,2021</td>\n",
       "      <td>Wednesday</td>\n",
       "      <td>6:00-7:00pm</td>\n",
       "      <td>21.5</td>\n",
       "    </tr>\n",
       "    <tr>\n",
       "      <th>21</th>\n",
       "      <td>1.0</td>\n",
       "      <td>Physics</td>\n",
       "      <td>June 10,2021</td>\n",
       "      <td>Thursday</td>\n",
       "      <td>7:00-8:00am</td>\n",
       "      <td>22.5</td>\n",
       "    </tr>\n",
       "    <tr>\n",
       "      <th>22</th>\n",
       "      <td>1.0</td>\n",
       "      <td>Chemistry</td>\n",
       "      <td>June 10,2021</td>\n",
       "      <td>Thursday</td>\n",
       "      <td>3:00-4:00pm</td>\n",
       "      <td>23.5</td>\n",
       "    </tr>\n",
       "    <tr>\n",
       "      <th>23</th>\n",
       "      <td>1.0</td>\n",
       "      <td>Physics</td>\n",
       "      <td>June 11,2021</td>\n",
       "      <td>Friday</td>\n",
       "      <td>7:00-8:00am</td>\n",
       "      <td>24.5</td>\n",
       "    </tr>\n",
       "    <tr>\n",
       "      <th>24</th>\n",
       "      <td>1.0</td>\n",
       "      <td>Maths</td>\n",
       "      <td>June 11,2021</td>\n",
       "      <td>Friday</td>\n",
       "      <td>3:00-4:00pm</td>\n",
       "      <td>25.5</td>\n",
       "    </tr>\n",
       "    <tr>\n",
       "      <th>25</th>\n",
       "      <td>1.0</td>\n",
       "      <td>Chemistry</td>\n",
       "      <td>June 11,2021</td>\n",
       "      <td>Friday</td>\n",
       "      <td>6:00-7:00pm</td>\n",
       "      <td>26.5</td>\n",
       "    </tr>\n",
       "    <tr>\n",
       "      <th>26</th>\n",
       "      <td>1.0</td>\n",
       "      <td>Physics</td>\n",
       "      <td>June 12,2021</td>\n",
       "      <td>Saturday</td>\n",
       "      <td>7:00-8:00am</td>\n",
       "      <td>27.5</td>\n",
       "    </tr>\n",
       "    <tr>\n",
       "      <th>27</th>\n",
       "      <td>1.0</td>\n",
       "      <td>Chemistry</td>\n",
       "      <td>June 12,2021</td>\n",
       "      <td>Saturday</td>\n",
       "      <td>3:00-4:00pm</td>\n",
       "      <td>28.5</td>\n",
       "    </tr>\n",
       "    <tr>\n",
       "      <th>28</th>\n",
       "      <td>1.0</td>\n",
       "      <td>Maths</td>\n",
       "      <td>June 12,2021</td>\n",
       "      <td>Saturday</td>\n",
       "      <td>6:00-7:00pm</td>\n",
       "      <td>29.5</td>\n",
       "    </tr>\n",
       "    <tr>\n",
       "      <th>30</th>\n",
       "      <td>1.0</td>\n",
       "      <td>Chemistry</td>\n",
       "      <td>June 14,2021</td>\n",
       "      <td>Monday</td>\n",
       "      <td>2:31-3:35pm</td>\n",
       "      <td>30.5</td>\n",
       "    </tr>\n",
       "    <tr>\n",
       "      <th>31</th>\n",
       "      <td>1.5</td>\n",
       "      <td>Physics</td>\n",
       "      <td>June 14,2021</td>\n",
       "      <td>Monday</td>\n",
       "      <td>5:15-6:45pm</td>\n",
       "      <td>32.0</td>\n",
       "    </tr>\n",
       "    <tr>\n",
       "      <th>32</th>\n",
       "      <td>1.0</td>\n",
       "      <td>Chemistry</td>\n",
       "      <td>June 15,2021</td>\n",
       "      <td>Tuesday</td>\n",
       "      <td>3:15-4:15pm</td>\n",
       "      <td>33.0</td>\n",
       "    </tr>\n",
       "    <tr>\n",
       "      <th>33</th>\n",
       "      <td>1.0</td>\n",
       "      <td>Maths</td>\n",
       "      <td>June 15,2021</td>\n",
       "      <td>Tuesday</td>\n",
       "      <td>5:00-6:00pm</td>\n",
       "      <td>34.0</td>\n",
       "    </tr>\n",
       "    <tr>\n",
       "      <th>34</th>\n",
       "      <td>1.0</td>\n",
       "      <td>Physics</td>\n",
       "      <td>June 15,2021</td>\n",
       "      <td>Tuesday</td>\n",
       "      <td>6:00-7:00pm</td>\n",
       "      <td>35.0</td>\n",
       "    </tr>\n",
       "    <tr>\n",
       "      <th>35</th>\n",
       "      <td>1.0</td>\n",
       "      <td>Chemistry</td>\n",
       "      <td>June 16,2021</td>\n",
       "      <td>Wednesday</td>\n",
       "      <td>3:15-4:15pm</td>\n",
       "      <td>36.0</td>\n",
       "    </tr>\n",
       "    <tr>\n",
       "      <th>36</th>\n",
       "      <td>1.5</td>\n",
       "      <td>Maths</td>\n",
       "      <td>June 16,2021</td>\n",
       "      <td>Wednesday</td>\n",
       "      <td>5:00-6:30pm</td>\n",
       "      <td>37.5</td>\n",
       "    </tr>\n",
       "    <tr>\n",
       "      <th>37</th>\n",
       "      <td>1.5</td>\n",
       "      <td>Physics</td>\n",
       "      <td>June 17,2021</td>\n",
       "      <td>Thursday</td>\n",
       "      <td>5:30-7:00pm</td>\n",
       "      <td>39.0</td>\n",
       "    </tr>\n",
       "    <tr>\n",
       "      <th>38</th>\n",
       "      <td>1.0</td>\n",
       "      <td>Chemistry</td>\n",
       "      <td>June 17,2021</td>\n",
       "      <td>Thursday</td>\n",
       "      <td>3:00-4:00pm</td>\n",
       "      <td>40.0</td>\n",
       "    </tr>\n",
       "    <tr>\n",
       "      <th>39</th>\n",
       "      <td>1.5</td>\n",
       "      <td>Physics</td>\n",
       "      <td>June 18,2021</td>\n",
       "      <td>Friday</td>\n",
       "      <td>5:00-6:30am</td>\n",
       "      <td>41.5</td>\n",
       "    </tr>\n",
       "    <tr>\n",
       "      <th>40</th>\n",
       "      <td>1.5</td>\n",
       "      <td>Maths</td>\n",
       "      <td>June 18,2021</td>\n",
       "      <td>Friday</td>\n",
       "      <td>2:30-4:00pm</td>\n",
       "      <td>43.0</td>\n",
       "    </tr>\n",
       "    <tr>\n",
       "      <th>41</th>\n",
       "      <td>1.5</td>\n",
       "      <td>Physics</td>\n",
       "      <td>June 19,2021</td>\n",
       "      <td>Saturday</td>\n",
       "      <td>5:00-6:45am</td>\n",
       "      <td>44.5</td>\n",
       "    </tr>\n",
       "    <tr>\n",
       "      <th>42</th>\n",
       "      <td>1.0</td>\n",
       "      <td>Maths</td>\n",
       "      <td>June 19,2021</td>\n",
       "      <td>Saturday</td>\n",
       "      <td>3:00-4:00pm</td>\n",
       "      <td>45.5</td>\n",
       "    </tr>\n",
       "    <tr>\n",
       "      <th>44</th>\n",
       "      <td>1.0</td>\n",
       "      <td>Maths</td>\n",
       "      <td>June 21,2021</td>\n",
       "      <td>Monday</td>\n",
       "      <td>3:00-4:00pm</td>\n",
       "      <td>46.5</td>\n",
       "    </tr>\n",
       "    <tr>\n",
       "      <th>45</th>\n",
       "      <td>2.0</td>\n",
       "      <td>Physics/IT</td>\n",
       "      <td>June 21,2021</td>\n",
       "      <td>Monday</td>\n",
       "      <td>5:00-7:00pm</td>\n",
       "      <td>48.5</td>\n",
       "    </tr>\n",
       "    <tr>\n",
       "      <th>46</th>\n",
       "      <td>1.5</td>\n",
       "      <td>Maths</td>\n",
       "      <td>June 22,2021</td>\n",
       "      <td>Tuesday</td>\n",
       "      <td>3:30-5:00pm</td>\n",
       "      <td>50.0</td>\n",
       "    </tr>\n",
       "    <tr>\n",
       "      <th>47</th>\n",
       "      <td>1.5</td>\n",
       "      <td>Physics</td>\n",
       "      <td>June 22,2021</td>\n",
       "      <td>Tuesday</td>\n",
       "      <td>5:30-7:00pm</td>\n",
       "      <td>51.5</td>\n",
       "    </tr>\n",
       "    <tr>\n",
       "      <th>48</th>\n",
       "      <td>1.0</td>\n",
       "      <td>Physics</td>\n",
       "      <td>June 23,2021</td>\n",
       "      <td>Wednesday</td>\n",
       "      <td>6:15-7:15pm</td>\n",
       "      <td>52.5</td>\n",
       "    </tr>\n",
       "    <tr>\n",
       "      <th>50</th>\n",
       "      <td>1.5</td>\n",
       "      <td>Maths</td>\n",
       "      <td>June 23,2021</td>\n",
       "      <td>Wednesday</td>\n",
       "      <td>3:15-4:30pm</td>\n",
       "      <td>55.0</td>\n",
       "    </tr>\n",
       "    <tr>\n",
       "      <th>52</th>\n",
       "      <td>1.0</td>\n",
       "      <td>Maths</td>\n",
       "      <td>June 24,2021</td>\n",
       "      <td>Thursday</td>\n",
       "      <td>3:00-4:00pm</td>\n",
       "      <td>57.0</td>\n",
       "    </tr>\n",
       "    <tr>\n",
       "      <th>53</th>\n",
       "      <td>1.0</td>\n",
       "      <td>Physics</td>\n",
       "      <td>June 24,2021</td>\n",
       "      <td>Thursday</td>\n",
       "      <td>6:00-7:00pm</td>\n",
       "      <td>58.0</td>\n",
       "    </tr>\n",
       "    <tr>\n",
       "      <th>55</th>\n",
       "      <td>1.0</td>\n",
       "      <td>Maths</td>\n",
       "      <td>June 25,2021</td>\n",
       "      <td>Friday</td>\n",
       "      <td>3:00-4:00pm</td>\n",
       "      <td>60.0</td>\n",
       "    </tr>\n",
       "    <tr>\n",
       "      <th>56</th>\n",
       "      <td>1.0</td>\n",
       "      <td>Physics</td>\n",
       "      <td>June 25,2021</td>\n",
       "      <td>Friday</td>\n",
       "      <td>6:00-7:00pm</td>\n",
       "      <td>61.0</td>\n",
       "    </tr>\n",
       "    <tr>\n",
       "      <th>57</th>\n",
       "      <td>1.0</td>\n",
       "      <td>Maths</td>\n",
       "      <td>June 26,2021</td>\n",
       "      <td>Saturday</td>\n",
       "      <td>2:30-3:30am</td>\n",
       "      <td>62.0</td>\n",
       "    </tr>\n",
       "    <tr>\n",
       "      <th>61</th>\n",
       "      <td>1.0</td>\n",
       "      <td>Maths</td>\n",
       "      <td>June 28,2021</td>\n",
       "      <td>Monday</td>\n",
       "      <td>4:00-5;00pm</td>\n",
       "      <td>65.0</td>\n",
       "    </tr>\n",
       "    <tr>\n",
       "      <th>62</th>\n",
       "      <td>1.0</td>\n",
       "      <td>Physics</td>\n",
       "      <td>June 28,2021</td>\n",
       "      <td>Monday</td>\n",
       "      <td>2:30-3:30pm</td>\n",
       "      <td>66.0</td>\n",
       "    </tr>\n",
       "    <tr>\n",
       "      <th>64</th>\n",
       "      <td>1.0</td>\n",
       "      <td>Physics</td>\n",
       "      <td>June 29,2021</td>\n",
       "      <td>Tuesday</td>\n",
       "      <td>3:00-4:00pm</td>\n",
       "      <td>68.0</td>\n",
       "    </tr>\n",
       "    <tr>\n",
       "      <th>66</th>\n",
       "      <td>1.0</td>\n",
       "      <td>Maths</td>\n",
       "      <td>June 30,2021</td>\n",
       "      <td>Wednesday</td>\n",
       "      <td>6:30-7:30pm</td>\n",
       "      <td>70.0</td>\n",
       "    </tr>\n",
       "  </tbody>\n",
       "</table>\n",
       "</div>"
      ],
      "text/plain": [
       "    Approx_Hour     Subject          Date        Day       Timings  \\\n",
       "1           1.5   Chemistry   June 1,2021    Tuesday   4:30-6:00pm   \n",
       "2           1.5     Physics   June 2,2021  Wednesday   4:00-5:30pm   \n",
       "3           1.0   chemistry   June 3,2021   Thursday   7:00-8:00am   \n",
       "4           1.0       Maths   June 3,2021   Thursday   2:30-3:30pm   \n",
       "5           1.0     Physics   June 3,2021   Thursday   5:00-6:00pm   \n",
       "6           1.0   Chemistry   June 4,2021     Friday   7:00-8:00am   \n",
       "7           1.0       Maths   June 4,2021     Friday   2:30-3:30pm   \n",
       "8           1.0     Physics   June 4,2021     Friday   5:00-6:00pm   \n",
       "9           1.0   Chemistry   June 5,2021   Saturday   7:00-8:00am   \n",
       "10          1.0     Physics   June 5,2021   Saturday   2:30-3:30pm   \n",
       "11          1.5       Maths   June 6,2021     Sunday  11am-12:30pm   \n",
       "12          1.0   Chemistry   June 7,2021     Monday   5:00-6:00pm   \n",
       "13          1.0       Maths   June 7,2021     Monday   6:15-7:15pm   \n",
       "14          1.0     Physics   June 7,2021     Monday   2:30-3:30pm   \n",
       "15          1.0   Chemistry   June 8,2021    Tuesday   7:00-8:00am   \n",
       "16          1.0       Maths   June 8,2021    Tuesday   2:30-3:30pm   \n",
       "17          1.0     Physics   June 8,2021    Tuesday   5:00-6:00pm   \n",
       "18          1.0     Physics   June 9,2021  Wednesday   7:00-8:00am   \n",
       "19          1.0   Chemistry   June 9,2021  Wednesday   3:00-4:00pm   \n",
       "20          1.0       Maths   June 9,2021  Wednesday   6:00-7:00pm   \n",
       "21          1.0     Physics  June 10,2021   Thursday   7:00-8:00am   \n",
       "22          1.0   Chemistry  June 10,2021   Thursday   3:00-4:00pm   \n",
       "23          1.0     Physics  June 11,2021     Friday   7:00-8:00am   \n",
       "24          1.0       Maths  June 11,2021     Friday   3:00-4:00pm   \n",
       "25          1.0   Chemistry  June 11,2021     Friday   6:00-7:00pm   \n",
       "26          1.0     Physics  June 12,2021   Saturday   7:00-8:00am   \n",
       "27          1.0   Chemistry  June 12,2021   Saturday   3:00-4:00pm   \n",
       "28          1.0       Maths  June 12,2021   Saturday   6:00-7:00pm   \n",
       "30          1.0   Chemistry  June 14,2021     Monday   2:31-3:35pm   \n",
       "31          1.5     Physics  June 14,2021     Monday   5:15-6:45pm   \n",
       "32          1.0   Chemistry  June 15,2021    Tuesday   3:15-4:15pm   \n",
       "33          1.0       Maths  June 15,2021    Tuesday   5:00-6:00pm   \n",
       "34          1.0     Physics  June 15,2021    Tuesday   6:00-7:00pm   \n",
       "35          1.0   Chemistry  June 16,2021  Wednesday   3:15-4:15pm   \n",
       "36          1.5       Maths  June 16,2021  Wednesday   5:00-6:30pm   \n",
       "37          1.5     Physics  June 17,2021   Thursday   5:30-7:00pm   \n",
       "38          1.0   Chemistry  June 17,2021   Thursday   3:00-4:00pm   \n",
       "39          1.5     Physics  June 18,2021     Friday   5:00-6:30am   \n",
       "40          1.5       Maths  June 18,2021     Friday   2:30-4:00pm   \n",
       "41          1.5     Physics  June 19,2021   Saturday   5:00-6:45am   \n",
       "42          1.0       Maths  June 19,2021   Saturday   3:00-4:00pm   \n",
       "44          1.0       Maths  June 21,2021     Monday   3:00-4:00pm   \n",
       "45          2.0  Physics/IT  June 21,2021     Monday   5:00-7:00pm   \n",
       "46          1.5       Maths  June 22,2021    Tuesday   3:30-5:00pm   \n",
       "47          1.5     Physics  June 22,2021    Tuesday   5:30-7:00pm   \n",
       "48          1.0     Physics  June 23,2021  Wednesday   6:15-7:15pm   \n",
       "50          1.5       Maths  June 23,2021  Wednesday   3:15-4:30pm   \n",
       "52          1.0       Maths  June 24,2021   Thursday   3:00-4:00pm   \n",
       "53          1.0     Physics  June 24,2021   Thursday   6:00-7:00pm   \n",
       "55          1.0       Maths  June 25,2021     Friday   3:00-4:00pm   \n",
       "56          1.0     Physics  June 25,2021     Friday   6:00-7:00pm   \n",
       "57          1.0       Maths  June 26,2021   Saturday   2:30-3:30am   \n",
       "61          1.0       Maths  June 28,2021     Monday   4:00-5;00pm   \n",
       "62          1.0     Physics  June 28,2021     Monday   2:30-3:30pm   \n",
       "64          1.0     Physics  June 29,2021    Tuesday   3:00-4:00pm   \n",
       "66          1.0       Maths  June 30,2021  Wednesday   6:30-7:30pm   \n",
       "\n",
       "    Cumulative_Hour  \n",
       "1               1.5  \n",
       "2               3.0  \n",
       "3               4.0  \n",
       "4               5.0  \n",
       "5               6.0  \n",
       "6               7.0  \n",
       "7               8.0  \n",
       "8               9.0  \n",
       "9              10.0  \n",
       "10             11.0  \n",
       "11             12.5  \n",
       "12             13.5  \n",
       "13             14.5  \n",
       "14             15.5  \n",
       "15             16.5  \n",
       "16             17.5  \n",
       "17             18.5  \n",
       "18             19.5  \n",
       "19             20.5  \n",
       "20             21.5  \n",
       "21             22.5  \n",
       "22             23.5  \n",
       "23             24.5  \n",
       "24             25.5  \n",
       "25             26.5  \n",
       "26             27.5  \n",
       "27             28.5  \n",
       "28             29.5  \n",
       "30             30.5  \n",
       "31             32.0  \n",
       "32             33.0  \n",
       "33             34.0  \n",
       "34             35.0  \n",
       "35             36.0  \n",
       "36             37.5  \n",
       "37             39.0  \n",
       "38             40.0  \n",
       "39             41.5  \n",
       "40             43.0  \n",
       "41             44.5  \n",
       "42             45.5  \n",
       "44             46.5  \n",
       "45             48.5  \n",
       "46             50.0  \n",
       "47             51.5  \n",
       "48             52.5  \n",
       "50             55.0  \n",
       "52             57.0  \n",
       "53             58.0  \n",
       "55             60.0  \n",
       "56             61.0  \n",
       "57             62.0  \n",
       "61             65.0  \n",
       "62             66.0  \n",
       "64             68.0  \n",
       "66             70.0  "
      ]
     },
     "execution_count": 56,
     "metadata": {},
     "output_type": "execute_result"
    }
   ],
   "source": [
    "import matplotlib.pyplot as mlp \n",
    "import array as arr\n",
    "import pandas as pd\n",
    "data=pd.read_csv(r'C:/Users\\deepajay\\Desktop\\PY\\ds\\Jupitar\\jupyter/sheet.csv')\n",
    "print(data.head(10))\n",
    "print(data.shape)\n",
    "print(data.keys())\n",
    "# data.columns\n",
    "data.loc[(data.Subject>='Chemistry'),('Approx_Hour','Subject','Date','Day','Timings','Cumulative_Hour')]"
   ]
  },
  {
   "cell_type": "code",
   "execution_count": 57,
   "metadata": {},
   "outputs": [
    {
     "name": "stdout",
     "output_type": "stream",
     "text": [
      "[('Physics', 21), ('Maths', 20), ('Chemistry', 13), ('CS', 7), (nan, 6), ('chemistry', 1), ('Physics/IT', 1)]\n"
     ]
    },
    {
     "data": {
      "text/html": [
       "<div>\n",
       "<style scoped>\n",
       "    .dataframe tbody tr th:only-of-type {\n",
       "        vertical-align: middle;\n",
       "    }\n",
       "\n",
       "    .dataframe tbody tr th {\n",
       "        vertical-align: top;\n",
       "    }\n",
       "\n",
       "    .dataframe thead th {\n",
       "        text-align: right;\n",
       "    }\n",
       "</style>\n",
       "<table border=\"1\" class=\"dataframe\">\n",
       "  <thead>\n",
       "    <tr style=\"text-align: right;\">\n",
       "      <th></th>\n",
       "      <th>Subject</th>\n",
       "      <th>Approx_Hour</th>\n",
       "    </tr>\n",
       "  </thead>\n",
       "  <tbody>\n",
       "    <tr>\n",
       "      <th>0</th>\n",
       "      <td>Physics</td>\n",
       "      <td>21</td>\n",
       "    </tr>\n",
       "    <tr>\n",
       "      <th>1</th>\n",
       "      <td>Maths</td>\n",
       "      <td>20</td>\n",
       "    </tr>\n",
       "    <tr>\n",
       "      <th>2</th>\n",
       "      <td>Chemistry</td>\n",
       "      <td>13</td>\n",
       "    </tr>\n",
       "    <tr>\n",
       "      <th>3</th>\n",
       "      <td>CS</td>\n",
       "      <td>7</td>\n",
       "    </tr>\n",
       "    <tr>\n",
       "      <th>4</th>\n",
       "      <td>NaN</td>\n",
       "      <td>6</td>\n",
       "    </tr>\n",
       "    <tr>\n",
       "      <th>5</th>\n",
       "      <td>chemistry</td>\n",
       "      <td>1</td>\n",
       "    </tr>\n",
       "    <tr>\n",
       "      <th>6</th>\n",
       "      <td>Physics/IT</td>\n",
       "      <td>1</td>\n",
       "    </tr>\n",
       "  </tbody>\n",
       "</table>\n",
       "</div>"
      ],
      "text/plain": [
       "      Subject  Approx_Hour\n",
       "0     Physics           21\n",
       "1       Maths           20\n",
       "2   Chemistry           13\n",
       "3          CS            7\n",
       "4         NaN            6\n",
       "5   chemistry            1\n",
       "6  Physics/IT            1"
      ]
     },
     "execution_count": 57,
     "metadata": {},
     "output_type": "execute_result"
    }
   ],
   "source": [
    "from collections import Counter\n",
    "Approx_Hour=Counter(data.Subject)\n",
    "Cumulative_Hours=Approx_Hour.most_common(66)\n",
    "print(Cumulative_Hours)\n",
    "x, y=zip(*Cumulative_Hours)\n",
    "x, y=list(x), list(y)\n",
    "names=pd.DataFrame(x)\n",
    "number=pd.DataFrame(y)\n",
    "subject=pd.concat([names.iloc[:,0],number.iloc[:,0]], axis=1)\n",
    "subject.columns=\"Subject\",\"Approx_Hour\"\n",
    "subject.head(8)"
   ]
  },
  {
   "cell_type": "code",
   "execution_count": 60,
   "metadata": {},
   "outputs": [
    {
     "data": {
      "text/html": [
       "        <script type=\"text/javascript\">\n",
       "        window.PlotlyConfig = {MathJaxConfig: 'local'};\n",
       "        if (window.MathJax && window.MathJax.Hub && window.MathJax.Hub.Config) {window.MathJax.Hub.Config({SVG: {font: \"STIX-Web\"}});}\n",
       "        if (typeof require !== 'undefined') {\n",
       "        require.undef(\"plotly\");\n",
       "        requirejs.config({\n",
       "            paths: {\n",
       "                'plotly': ['https://cdn.plot.ly/plotly-2.12.1.min']\n",
       "            }\n",
       "        });\n",
       "        require(['plotly'], function(Plotly) {\n",
       "            window._Plotly = Plotly;\n",
       "        });\n",
       "        }\n",
       "        </script>\n",
       "        "
      ]
     },
     "metadata": {},
     "output_type": "display_data"
    },
    {
     "data": {
      "application/vnd.plotly.v1+json": {
       "config": {
        "linkText": "Export to plot.ly",
        "plotlyServerURL": "https://plot.ly",
        "showLink": false
       },
       "data": [
        {
         "hole": 0.4,
         "hoverinfo": "label+percent+name",
         "labels": [
          "Physics",
          "Maths",
          "Chemistry",
          "CS",
          null,
          "chemistry",
          "Physics/IT"
         ],
         "name": "Subject",
         "type": "pie",
         "values": [
          21,
          20,
          13,
          7,
          6,
          1,
          1
         ]
        }
       ],
       "layout": {
        "annotations": [
         {
          "font": {
           "size": 20
          },
          "showarrow": false,
          "text": "Subject",
          "x": 0.5,
          "y": 0.5
         }
        ],
        "template": {
         "data": {
          "bar": [
           {
            "error_x": {
             "color": "#2a3f5f"
            },
            "error_y": {
             "color": "#2a3f5f"
            },
            "marker": {
             "line": {
              "color": "#E5ECF6",
              "width": 0.5
             },
             "pattern": {
              "fillmode": "overlay",
              "size": 10,
              "solidity": 0.2
             }
            },
            "type": "bar"
           }
          ],
          "barpolar": [
           {
            "marker": {
             "line": {
              "color": "#E5ECF6",
              "width": 0.5
             },
             "pattern": {
              "fillmode": "overlay",
              "size": 10,
              "solidity": 0.2
             }
            },
            "type": "barpolar"
           }
          ],
          "carpet": [
           {
            "aaxis": {
             "endlinecolor": "#2a3f5f",
             "gridcolor": "white",
             "linecolor": "white",
             "minorgridcolor": "white",
             "startlinecolor": "#2a3f5f"
            },
            "baxis": {
             "endlinecolor": "#2a3f5f",
             "gridcolor": "white",
             "linecolor": "white",
             "minorgridcolor": "white",
             "startlinecolor": "#2a3f5f"
            },
            "type": "carpet"
           }
          ],
          "choropleth": [
           {
            "colorbar": {
             "outlinewidth": 0,
             "ticks": ""
            },
            "type": "choropleth"
           }
          ],
          "contour": [
           {
            "colorbar": {
             "outlinewidth": 0,
             "ticks": ""
            },
            "colorscale": [
             [
              0,
              "#0d0887"
             ],
             [
              0.1111111111111111,
              "#46039f"
             ],
             [
              0.2222222222222222,
              "#7201a8"
             ],
             [
              0.3333333333333333,
              "#9c179e"
             ],
             [
              0.4444444444444444,
              "#bd3786"
             ],
             [
              0.5555555555555556,
              "#d8576b"
             ],
             [
              0.6666666666666666,
              "#ed7953"
             ],
             [
              0.7777777777777778,
              "#fb9f3a"
             ],
             [
              0.8888888888888888,
              "#fdca26"
             ],
             [
              1,
              "#f0f921"
             ]
            ],
            "type": "contour"
           }
          ],
          "contourcarpet": [
           {
            "colorbar": {
             "outlinewidth": 0,
             "ticks": ""
            },
            "type": "contourcarpet"
           }
          ],
          "heatmap": [
           {
            "colorbar": {
             "outlinewidth": 0,
             "ticks": ""
            },
            "colorscale": [
             [
              0,
              "#0d0887"
             ],
             [
              0.1111111111111111,
              "#46039f"
             ],
             [
              0.2222222222222222,
              "#7201a8"
             ],
             [
              0.3333333333333333,
              "#9c179e"
             ],
             [
              0.4444444444444444,
              "#bd3786"
             ],
             [
              0.5555555555555556,
              "#d8576b"
             ],
             [
              0.6666666666666666,
              "#ed7953"
             ],
             [
              0.7777777777777778,
              "#fb9f3a"
             ],
             [
              0.8888888888888888,
              "#fdca26"
             ],
             [
              1,
              "#f0f921"
             ]
            ],
            "type": "heatmap"
           }
          ],
          "heatmapgl": [
           {
            "colorbar": {
             "outlinewidth": 0,
             "ticks": ""
            },
            "colorscale": [
             [
              0,
              "#0d0887"
             ],
             [
              0.1111111111111111,
              "#46039f"
             ],
             [
              0.2222222222222222,
              "#7201a8"
             ],
             [
              0.3333333333333333,
              "#9c179e"
             ],
             [
              0.4444444444444444,
              "#bd3786"
             ],
             [
              0.5555555555555556,
              "#d8576b"
             ],
             [
              0.6666666666666666,
              "#ed7953"
             ],
             [
              0.7777777777777778,
              "#fb9f3a"
             ],
             [
              0.8888888888888888,
              "#fdca26"
             ],
             [
              1,
              "#f0f921"
             ]
            ],
            "type": "heatmapgl"
           }
          ],
          "histogram": [
           {
            "marker": {
             "pattern": {
              "fillmode": "overlay",
              "size": 10,
              "solidity": 0.2
             }
            },
            "type": "histogram"
           }
          ],
          "histogram2d": [
           {
            "colorbar": {
             "outlinewidth": 0,
             "ticks": ""
            },
            "colorscale": [
             [
              0,
              "#0d0887"
             ],
             [
              0.1111111111111111,
              "#46039f"
             ],
             [
              0.2222222222222222,
              "#7201a8"
             ],
             [
              0.3333333333333333,
              "#9c179e"
             ],
             [
              0.4444444444444444,
              "#bd3786"
             ],
             [
              0.5555555555555556,
              "#d8576b"
             ],
             [
              0.6666666666666666,
              "#ed7953"
             ],
             [
              0.7777777777777778,
              "#fb9f3a"
             ],
             [
              0.8888888888888888,
              "#fdca26"
             ],
             [
              1,
              "#f0f921"
             ]
            ],
            "type": "histogram2d"
           }
          ],
          "histogram2dcontour": [
           {
            "colorbar": {
             "outlinewidth": 0,
             "ticks": ""
            },
            "colorscale": [
             [
              0,
              "#0d0887"
             ],
             [
              0.1111111111111111,
              "#46039f"
             ],
             [
              0.2222222222222222,
              "#7201a8"
             ],
             [
              0.3333333333333333,
              "#9c179e"
             ],
             [
              0.4444444444444444,
              "#bd3786"
             ],
             [
              0.5555555555555556,
              "#d8576b"
             ],
             [
              0.6666666666666666,
              "#ed7953"
             ],
             [
              0.7777777777777778,
              "#fb9f3a"
             ],
             [
              0.8888888888888888,
              "#fdca26"
             ],
             [
              1,
              "#f0f921"
             ]
            ],
            "type": "histogram2dcontour"
           }
          ],
          "mesh3d": [
           {
            "colorbar": {
             "outlinewidth": 0,
             "ticks": ""
            },
            "type": "mesh3d"
           }
          ],
          "parcoords": [
           {
            "line": {
             "colorbar": {
              "outlinewidth": 0,
              "ticks": ""
             }
            },
            "type": "parcoords"
           }
          ],
          "pie": [
           {
            "automargin": true,
            "type": "pie"
           }
          ],
          "scatter": [
           {
            "fillpattern": {
             "fillmode": "overlay",
             "size": 10,
             "solidity": 0.2
            },
            "type": "scatter"
           }
          ],
          "scatter3d": [
           {
            "line": {
             "colorbar": {
              "outlinewidth": 0,
              "ticks": ""
             }
            },
            "marker": {
             "colorbar": {
              "outlinewidth": 0,
              "ticks": ""
             }
            },
            "type": "scatter3d"
           }
          ],
          "scattercarpet": [
           {
            "marker": {
             "colorbar": {
              "outlinewidth": 0,
              "ticks": ""
             }
            },
            "type": "scattercarpet"
           }
          ],
          "scattergeo": [
           {
            "marker": {
             "colorbar": {
              "outlinewidth": 0,
              "ticks": ""
             }
            },
            "type": "scattergeo"
           }
          ],
          "scattergl": [
           {
            "marker": {
             "colorbar": {
              "outlinewidth": 0,
              "ticks": ""
             }
            },
            "type": "scattergl"
           }
          ],
          "scattermapbox": [
           {
            "marker": {
             "colorbar": {
              "outlinewidth": 0,
              "ticks": ""
             }
            },
            "type": "scattermapbox"
           }
          ],
          "scatterpolar": [
           {
            "marker": {
             "colorbar": {
              "outlinewidth": 0,
              "ticks": ""
             }
            },
            "type": "scatterpolar"
           }
          ],
          "scatterpolargl": [
           {
            "marker": {
             "colorbar": {
              "outlinewidth": 0,
              "ticks": ""
             }
            },
            "type": "scatterpolargl"
           }
          ],
          "scatterternary": [
           {
            "marker": {
             "colorbar": {
              "outlinewidth": 0,
              "ticks": ""
             }
            },
            "type": "scatterternary"
           }
          ],
          "surface": [
           {
            "colorbar": {
             "outlinewidth": 0,
             "ticks": ""
            },
            "colorscale": [
             [
              0,
              "#0d0887"
             ],
             [
              0.1111111111111111,
              "#46039f"
             ],
             [
              0.2222222222222222,
              "#7201a8"
             ],
             [
              0.3333333333333333,
              "#9c179e"
             ],
             [
              0.4444444444444444,
              "#bd3786"
             ],
             [
              0.5555555555555556,
              "#d8576b"
             ],
             [
              0.6666666666666666,
              "#ed7953"
             ],
             [
              0.7777777777777778,
              "#fb9f3a"
             ],
             [
              0.8888888888888888,
              "#fdca26"
             ],
             [
              1,
              "#f0f921"
             ]
            ],
            "type": "surface"
           }
          ],
          "table": [
           {
            "cells": {
             "fill": {
              "color": "#EBF0F8"
             },
             "line": {
              "color": "white"
             }
            },
            "header": {
             "fill": {
              "color": "#C8D4E3"
             },
             "line": {
              "color": "white"
             }
            },
            "type": "table"
           }
          ]
         },
         "layout": {
          "annotationdefaults": {
           "arrowcolor": "#2a3f5f",
           "arrowhead": 0,
           "arrowwidth": 1
          },
          "autotypenumbers": "strict",
          "coloraxis": {
           "colorbar": {
            "outlinewidth": 0,
            "ticks": ""
           }
          },
          "colorscale": {
           "diverging": [
            [
             0,
             "#8e0152"
            ],
            [
             0.1,
             "#c51b7d"
            ],
            [
             0.2,
             "#de77ae"
            ],
            [
             0.3,
             "#f1b6da"
            ],
            [
             0.4,
             "#fde0ef"
            ],
            [
             0.5,
             "#f7f7f7"
            ],
            [
             0.6,
             "#e6f5d0"
            ],
            [
             0.7,
             "#b8e186"
            ],
            [
             0.8,
             "#7fbc41"
            ],
            [
             0.9,
             "#4d9221"
            ],
            [
             1,
             "#276419"
            ]
           ],
           "sequential": [
            [
             0,
             "#0d0887"
            ],
            [
             0.1111111111111111,
             "#46039f"
            ],
            [
             0.2222222222222222,
             "#7201a8"
            ],
            [
             0.3333333333333333,
             "#9c179e"
            ],
            [
             0.4444444444444444,
             "#bd3786"
            ],
            [
             0.5555555555555556,
             "#d8576b"
            ],
            [
             0.6666666666666666,
             "#ed7953"
            ],
            [
             0.7777777777777778,
             "#fb9f3a"
            ],
            [
             0.8888888888888888,
             "#fdca26"
            ],
            [
             1,
             "#f0f921"
            ]
           ],
           "sequentialminus": [
            [
             0,
             "#0d0887"
            ],
            [
             0.1111111111111111,
             "#46039f"
            ],
            [
             0.2222222222222222,
             "#7201a8"
            ],
            [
             0.3333333333333333,
             "#9c179e"
            ],
            [
             0.4444444444444444,
             "#bd3786"
            ],
            [
             0.5555555555555556,
             "#d8576b"
            ],
            [
             0.6666666666666666,
             "#ed7953"
            ],
            [
             0.7777777777777778,
             "#fb9f3a"
            ],
            [
             0.8888888888888888,
             "#fdca26"
            ],
            [
             1,
             "#f0f921"
            ]
           ]
          },
          "colorway": [
           "#636efa",
           "#EF553B",
           "#00cc96",
           "#ab63fa",
           "#FFA15A",
           "#19d3f3",
           "#FF6692",
           "#B6E880",
           "#FF97FF",
           "#FECB52"
          ],
          "font": {
           "color": "#2a3f5f"
          },
          "geo": {
           "bgcolor": "white",
           "lakecolor": "white",
           "landcolor": "#E5ECF6",
           "showlakes": true,
           "showland": true,
           "subunitcolor": "white"
          },
          "hoverlabel": {
           "align": "left"
          },
          "hovermode": "closest",
          "mapbox": {
           "style": "light"
          },
          "paper_bgcolor": "white",
          "plot_bgcolor": "#E5ECF6",
          "polar": {
           "angularaxis": {
            "gridcolor": "white",
            "linecolor": "white",
            "ticks": ""
           },
           "bgcolor": "#E5ECF6",
           "radialaxis": {
            "gridcolor": "white",
            "linecolor": "white",
            "ticks": ""
           }
          },
          "scene": {
           "xaxis": {
            "backgroundcolor": "#E5ECF6",
            "gridcolor": "white",
            "gridwidth": 2,
            "linecolor": "white",
            "showbackground": true,
            "ticks": "",
            "zerolinecolor": "white"
           },
           "yaxis": {
            "backgroundcolor": "#E5ECF6",
            "gridcolor": "white",
            "gridwidth": 2,
            "linecolor": "white",
            "showbackground": true,
            "ticks": "",
            "zerolinecolor": "white"
           },
           "zaxis": {
            "backgroundcolor": "#E5ECF6",
            "gridcolor": "white",
            "gridwidth": 2,
            "linecolor": "white",
            "showbackground": true,
            "ticks": "",
            "zerolinecolor": "white"
           }
          },
          "shapedefaults": {
           "line": {
            "color": "#2a3f5f"
           }
          },
          "ternary": {
           "aaxis": {
            "gridcolor": "white",
            "linecolor": "white",
            "ticks": ""
           },
           "baxis": {
            "gridcolor": "white",
            "linecolor": "white",
            "ticks": ""
           },
           "bgcolor": "#E5ECF6",
           "caxis": {
            "gridcolor": "white",
            "linecolor": "white",
            "ticks": ""
           }
          },
          "title": {
           "x": 0.05
          },
          "xaxis": {
           "automargin": true,
           "gridcolor": "white",
           "linecolor": "white",
           "ticks": "",
           "title": {
            "standoff": 15
           },
           "zerolinecolor": "white",
           "zerolinewidth": 2
          },
          "yaxis": {
           "automargin": true,
           "gridcolor": "white",
           "linecolor": "white",
           "ticks": "",
           "title": {
            "standoff": 15
           },
           "zerolinecolor": "white",
           "zerolinewidth": 2
          }
         }
        },
        "title": {
         "text": "total hours - top 67"
        }
       }
      },
      "text/html": [
       "<div>                            <div id=\"70ec3cc1-909b-458a-9fa4-e1f8809d460d\" class=\"plotly-graph-div\" style=\"height:525px; width:100%;\"></div>            <script type=\"text/javascript\">                require([\"plotly\"], function(Plotly) {                    window.PLOTLYENV=window.PLOTLYENV || {};                                    if (document.getElementById(\"70ec3cc1-909b-458a-9fa4-e1f8809d460d\")) {                    Plotly.newPlot(                        \"70ec3cc1-909b-458a-9fa4-e1f8809d460d\",                        [{\"hole\":0.4,\"hoverinfo\":\"label+percent+name\",\"labels\":[\"Physics\",\"Maths\",\"Chemistry\",\"CS\",null,\"chemistry\",\"Physics/IT\"],\"name\":\"Subject\",\"values\":[21,20,13,7,6,1,1],\"type\":\"pie\"}],                        {\"annotations\":[{\"font\":{\"size\":20},\"showarrow\":false,\"text\":\"Subject\",\"x\":0.5,\"y\":0.5}],\"template\":{\"data\":{\"barpolar\":[{\"marker\":{\"line\":{\"color\":\"#E5ECF6\",\"width\":0.5},\"pattern\":{\"fillmode\":\"overlay\",\"size\":10,\"solidity\":0.2}},\"type\":\"barpolar\"}],\"bar\":[{\"error_x\":{\"color\":\"#2a3f5f\"},\"error_y\":{\"color\":\"#2a3f5f\"},\"marker\":{\"line\":{\"color\":\"#E5ECF6\",\"width\":0.5},\"pattern\":{\"fillmode\":\"overlay\",\"size\":10,\"solidity\":0.2}},\"type\":\"bar\"}],\"carpet\":[{\"aaxis\":{\"endlinecolor\":\"#2a3f5f\",\"gridcolor\":\"white\",\"linecolor\":\"white\",\"minorgridcolor\":\"white\",\"startlinecolor\":\"#2a3f5f\"},\"baxis\":{\"endlinecolor\":\"#2a3f5f\",\"gridcolor\":\"white\",\"linecolor\":\"white\",\"minorgridcolor\":\"white\",\"startlinecolor\":\"#2a3f5f\"},\"type\":\"carpet\"}],\"choropleth\":[{\"colorbar\":{\"outlinewidth\":0,\"ticks\":\"\"},\"type\":\"choropleth\"}],\"contourcarpet\":[{\"colorbar\":{\"outlinewidth\":0,\"ticks\":\"\"},\"type\":\"contourcarpet\"}],\"contour\":[{\"colorbar\":{\"outlinewidth\":0,\"ticks\":\"\"},\"colorscale\":[[0.0,\"#0d0887\"],[0.1111111111111111,\"#46039f\"],[0.2222222222222222,\"#7201a8\"],[0.3333333333333333,\"#9c179e\"],[0.4444444444444444,\"#bd3786\"],[0.5555555555555556,\"#d8576b\"],[0.6666666666666666,\"#ed7953\"],[0.7777777777777778,\"#fb9f3a\"],[0.8888888888888888,\"#fdca26\"],[1.0,\"#f0f921\"]],\"type\":\"contour\"}],\"heatmapgl\":[{\"colorbar\":{\"outlinewidth\":0,\"ticks\":\"\"},\"colorscale\":[[0.0,\"#0d0887\"],[0.1111111111111111,\"#46039f\"],[0.2222222222222222,\"#7201a8\"],[0.3333333333333333,\"#9c179e\"],[0.4444444444444444,\"#bd3786\"],[0.5555555555555556,\"#d8576b\"],[0.6666666666666666,\"#ed7953\"],[0.7777777777777778,\"#fb9f3a\"],[0.8888888888888888,\"#fdca26\"],[1.0,\"#f0f921\"]],\"type\":\"heatmapgl\"}],\"heatmap\":[{\"colorbar\":{\"outlinewidth\":0,\"ticks\":\"\"},\"colorscale\":[[0.0,\"#0d0887\"],[0.1111111111111111,\"#46039f\"],[0.2222222222222222,\"#7201a8\"],[0.3333333333333333,\"#9c179e\"],[0.4444444444444444,\"#bd3786\"],[0.5555555555555556,\"#d8576b\"],[0.6666666666666666,\"#ed7953\"],[0.7777777777777778,\"#fb9f3a\"],[0.8888888888888888,\"#fdca26\"],[1.0,\"#f0f921\"]],\"type\":\"heatmap\"}],\"histogram2dcontour\":[{\"colorbar\":{\"outlinewidth\":0,\"ticks\":\"\"},\"colorscale\":[[0.0,\"#0d0887\"],[0.1111111111111111,\"#46039f\"],[0.2222222222222222,\"#7201a8\"],[0.3333333333333333,\"#9c179e\"],[0.4444444444444444,\"#bd3786\"],[0.5555555555555556,\"#d8576b\"],[0.6666666666666666,\"#ed7953\"],[0.7777777777777778,\"#fb9f3a\"],[0.8888888888888888,\"#fdca26\"],[1.0,\"#f0f921\"]],\"type\":\"histogram2dcontour\"}],\"histogram2d\":[{\"colorbar\":{\"outlinewidth\":0,\"ticks\":\"\"},\"colorscale\":[[0.0,\"#0d0887\"],[0.1111111111111111,\"#46039f\"],[0.2222222222222222,\"#7201a8\"],[0.3333333333333333,\"#9c179e\"],[0.4444444444444444,\"#bd3786\"],[0.5555555555555556,\"#d8576b\"],[0.6666666666666666,\"#ed7953\"],[0.7777777777777778,\"#fb9f3a\"],[0.8888888888888888,\"#fdca26\"],[1.0,\"#f0f921\"]],\"type\":\"histogram2d\"}],\"histogram\":[{\"marker\":{\"pattern\":{\"fillmode\":\"overlay\",\"size\":10,\"solidity\":0.2}},\"type\":\"histogram\"}],\"mesh3d\":[{\"colorbar\":{\"outlinewidth\":0,\"ticks\":\"\"},\"type\":\"mesh3d\"}],\"parcoords\":[{\"line\":{\"colorbar\":{\"outlinewidth\":0,\"ticks\":\"\"}},\"type\":\"parcoords\"}],\"pie\":[{\"automargin\":true,\"type\":\"pie\"}],\"scatter3d\":[{\"line\":{\"colorbar\":{\"outlinewidth\":0,\"ticks\":\"\"}},\"marker\":{\"colorbar\":{\"outlinewidth\":0,\"ticks\":\"\"}},\"type\":\"scatter3d\"}],\"scattercarpet\":[{\"marker\":{\"colorbar\":{\"outlinewidth\":0,\"ticks\":\"\"}},\"type\":\"scattercarpet\"}],\"scattergeo\":[{\"marker\":{\"colorbar\":{\"outlinewidth\":0,\"ticks\":\"\"}},\"type\":\"scattergeo\"}],\"scattergl\":[{\"marker\":{\"colorbar\":{\"outlinewidth\":0,\"ticks\":\"\"}},\"type\":\"scattergl\"}],\"scattermapbox\":[{\"marker\":{\"colorbar\":{\"outlinewidth\":0,\"ticks\":\"\"}},\"type\":\"scattermapbox\"}],\"scatterpolargl\":[{\"marker\":{\"colorbar\":{\"outlinewidth\":0,\"ticks\":\"\"}},\"type\":\"scatterpolargl\"}],\"scatterpolar\":[{\"marker\":{\"colorbar\":{\"outlinewidth\":0,\"ticks\":\"\"}},\"type\":\"scatterpolar\"}],\"scatter\":[{\"fillpattern\":{\"fillmode\":\"overlay\",\"size\":10,\"solidity\":0.2},\"type\":\"scatter\"}],\"scatterternary\":[{\"marker\":{\"colorbar\":{\"outlinewidth\":0,\"ticks\":\"\"}},\"type\":\"scatterternary\"}],\"surface\":[{\"colorbar\":{\"outlinewidth\":0,\"ticks\":\"\"},\"colorscale\":[[0.0,\"#0d0887\"],[0.1111111111111111,\"#46039f\"],[0.2222222222222222,\"#7201a8\"],[0.3333333333333333,\"#9c179e\"],[0.4444444444444444,\"#bd3786\"],[0.5555555555555556,\"#d8576b\"],[0.6666666666666666,\"#ed7953\"],[0.7777777777777778,\"#fb9f3a\"],[0.8888888888888888,\"#fdca26\"],[1.0,\"#f0f921\"]],\"type\":\"surface\"}],\"table\":[{\"cells\":{\"fill\":{\"color\":\"#EBF0F8\"},\"line\":{\"color\":\"white\"}},\"header\":{\"fill\":{\"color\":\"#C8D4E3\"},\"line\":{\"color\":\"white\"}},\"type\":\"table\"}]},\"layout\":{\"annotationdefaults\":{\"arrowcolor\":\"#2a3f5f\",\"arrowhead\":0,\"arrowwidth\":1},\"autotypenumbers\":\"strict\",\"coloraxis\":{\"colorbar\":{\"outlinewidth\":0,\"ticks\":\"\"}},\"colorscale\":{\"diverging\":[[0,\"#8e0152\"],[0.1,\"#c51b7d\"],[0.2,\"#de77ae\"],[0.3,\"#f1b6da\"],[0.4,\"#fde0ef\"],[0.5,\"#f7f7f7\"],[0.6,\"#e6f5d0\"],[0.7,\"#b8e186\"],[0.8,\"#7fbc41\"],[0.9,\"#4d9221\"],[1,\"#276419\"]],\"sequential\":[[0.0,\"#0d0887\"],[0.1111111111111111,\"#46039f\"],[0.2222222222222222,\"#7201a8\"],[0.3333333333333333,\"#9c179e\"],[0.4444444444444444,\"#bd3786\"],[0.5555555555555556,\"#d8576b\"],[0.6666666666666666,\"#ed7953\"],[0.7777777777777778,\"#fb9f3a\"],[0.8888888888888888,\"#fdca26\"],[1.0,\"#f0f921\"]],\"sequentialminus\":[[0.0,\"#0d0887\"],[0.1111111111111111,\"#46039f\"],[0.2222222222222222,\"#7201a8\"],[0.3333333333333333,\"#9c179e\"],[0.4444444444444444,\"#bd3786\"],[0.5555555555555556,\"#d8576b\"],[0.6666666666666666,\"#ed7953\"],[0.7777777777777778,\"#fb9f3a\"],[0.8888888888888888,\"#fdca26\"],[1.0,\"#f0f921\"]]},\"colorway\":[\"#636efa\",\"#EF553B\",\"#00cc96\",\"#ab63fa\",\"#FFA15A\",\"#19d3f3\",\"#FF6692\",\"#B6E880\",\"#FF97FF\",\"#FECB52\"],\"font\":{\"color\":\"#2a3f5f\"},\"geo\":{\"bgcolor\":\"white\",\"lakecolor\":\"white\",\"landcolor\":\"#E5ECF6\",\"showlakes\":true,\"showland\":true,\"subunitcolor\":\"white\"},\"hoverlabel\":{\"align\":\"left\"},\"hovermode\":\"closest\",\"mapbox\":{\"style\":\"light\"},\"paper_bgcolor\":\"white\",\"plot_bgcolor\":\"#E5ECF6\",\"polar\":{\"angularaxis\":{\"gridcolor\":\"white\",\"linecolor\":\"white\",\"ticks\":\"\"},\"bgcolor\":\"#E5ECF6\",\"radialaxis\":{\"gridcolor\":\"white\",\"linecolor\":\"white\",\"ticks\":\"\"}},\"scene\":{\"xaxis\":{\"backgroundcolor\":\"#E5ECF6\",\"gridcolor\":\"white\",\"gridwidth\":2,\"linecolor\":\"white\",\"showbackground\":true,\"ticks\":\"\",\"zerolinecolor\":\"white\"},\"yaxis\":{\"backgroundcolor\":\"#E5ECF6\",\"gridcolor\":\"white\",\"gridwidth\":2,\"linecolor\":\"white\",\"showbackground\":true,\"ticks\":\"\",\"zerolinecolor\":\"white\"},\"zaxis\":{\"backgroundcolor\":\"#E5ECF6\",\"gridcolor\":\"white\",\"gridwidth\":2,\"linecolor\":\"white\",\"showbackground\":true,\"ticks\":\"\",\"zerolinecolor\":\"white\"}},\"shapedefaults\":{\"line\":{\"color\":\"#2a3f5f\"}},\"ternary\":{\"aaxis\":{\"gridcolor\":\"white\",\"linecolor\":\"white\",\"ticks\":\"\"},\"baxis\":{\"gridcolor\":\"white\",\"linecolor\":\"white\",\"ticks\":\"\"},\"bgcolor\":\"#E5ECF6\",\"caxis\":{\"gridcolor\":\"white\",\"linecolor\":\"white\",\"ticks\":\"\"}},\"title\":{\"x\":0.05},\"xaxis\":{\"automargin\":true,\"gridcolor\":\"white\",\"linecolor\":\"white\",\"ticks\":\"\",\"title\":{\"standoff\":15},\"zerolinecolor\":\"white\",\"zerolinewidth\":2},\"yaxis\":{\"automargin\":true,\"gridcolor\":\"white\",\"linecolor\":\"white\",\"ticks\":\"\",\"title\":{\"standoff\":15},\"zerolinecolor\":\"white\",\"zerolinewidth\":2}}},\"title\":{\"text\":\"total hours - top 67\"}},                        {\"responsive\": true}                    ).then(function(){\n",
       "                            \n",
       "var gd = document.getElementById('70ec3cc1-909b-458a-9fa4-e1f8809d460d');\n",
       "var x = new MutationObserver(function (mutations, observer) {{\n",
       "        var display = window.getComputedStyle(gd).display;\n",
       "        if (!display || display === 'none') {{\n",
       "            console.log([gd, 'removed!']);\n",
       "            Plotly.purge(gd);\n",
       "            observer.disconnect();\n",
       "        }}\n",
       "}});\n",
       "\n",
       "// Listen for the removal of the full notebook cells\n",
       "var notebookContainer = gd.closest('#notebook-container');\n",
       "if (notebookContainer) {{\n",
       "    x.observe(notebookContainer, {childList: true});\n",
       "}}\n",
       "\n",
       "// Listen for the clearing of the current output cell\n",
       "var outputEl = gd.closest('.output');\n",
       "if (outputEl) {{\n",
       "    x.observe(outputEl, {childList: true});\n",
       "}}\n",
       "\n",
       "                        })                };                });            </script>        </div>"
      ]
     },
     "metadata": {},
     "output_type": "display_data"
    }
   ],
   "source": [
    "import chart_studio.plotly as py\n",
    "from plotly.offline import init_notebook_mode, plot, iplot\n",
    "import plotly.graph_objs as go \n",
    "init_notebook_mode(connected=True)\n",
    "val=subject.Subject\n",
    "fig={ 'data':[{'values':subject.iloc[:, 1], 'labels':val, 'name':'Subject','hoverinfo':'label+percent+name'\n",
    "               , 'hole':.4, 'type':'pie'}],\n",
    "     'layout':{\n",
    "         'title':\"total hours - top 67\", 'annotations':[{'font':{'size': 20}, 'showarrow':False,'text':'Subject',\n",
    "                                'x': .5,'y': .5}]\n",
    "     }\n",
    "}\n",
    "iplot(fig)"
   ]
  },
  {
   "cell_type": "code",
   "execution_count": 61,
   "metadata": {},
   "outputs": [],
   "source": [
    "# from wordcloud import WordCloud\n",
    "# import wordcloud\n",
    "# periods=data.loc[(data['Subject']>='Physics')&(data['Subject']<='Physics/IT')]\n",
    "# items=periods.Subject\n",
    "# mlp.subplots(figsize=(10,10))\n",
    "# wordcloud=WordCloud(background_color=\"black\",width=512,height=200).generate(\"\".join(items))\n",
    "# mlp.imshow(wordcloud)\n",
    "# mlp.axis('off')\n",
    "# mlp.show()"
   ]
  }
 ],
 "metadata": {
  "kernelspec": {
   "display_name": "Python 3.10.4 64-bit",
   "language": "python",
   "name": "python3"
  },
  "language_info": {
   "codemirror_mode": {
    "name": "ipython",
    "version": 3
   },
   "file_extension": ".py",
   "mimetype": "text/x-python",
   "name": "python",
   "nbconvert_exporter": "python",
   "pygments_lexer": "ipython3",
   "version": "3.10.4"
  },
  "orig_nbformat": 4,
  "vscode": {
   "interpreter": {
    "hash": "e1951bf4f1e4a54478a85c93f8dddae7818183ab5295aaafecafdf6faf422790"
   }
  }
 },
 "nbformat": 4,
 "nbformat_minor": 2
}
